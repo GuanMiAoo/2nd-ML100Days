{
 "cells": [
  {
   "cell_type": "markdown",
   "metadata": {},
   "source": [
    "## 練習時間"
   ]
  },
  {
   "cell_type": "markdown",
   "metadata": {},
   "source": [
    "請觀看李宏毅教授以神奇寶貝進化 CP 值預測的範例，解說何謂機器學習與過擬合。並回答以下問題"
   ]
  },
  {
   "cell_type": "markdown",
   "metadata": {},
   "source": [
    "[youtube](https://www.youtube.com/watch?v=fegAeph9UaA)"
   ]
  },
  {
   "cell_type": "markdown",
   "metadata": {},
   "source": [
    "1. 模型的泛化能力 (generalization) 是指什麼？ \n",
    "    * 當用測試資料建立一最佳模型後，帶入測試或其他的資料是否也能達到好的預測效果。\n",
    "    * 例如：用10筆寶可夢資料(training data)，建立一最佳模型，預測寶可夢升級後的CP值變化。\n",
    "    <br> 當再取得其他10筆資料時(testing data)，能不能也得到好的預測。\n",
    "\n",
    "\n",
    "2. 分類問題與回歸問題分別可用的目標函數有哪些？\n",
    "    * 分類問題: regularized過的MAR...\n",
    "    * 回歸問題: MAE..."
   ]
  }
 ],
 "metadata": {
  "kernelspec": {
   "display_name": "Python 3",
   "language": "python",
   "name": "python3"
  },
  "language_info": {
   "codemirror_mode": {
    "name": "ipython",
    "version": 3
   },
   "file_extension": ".py",
   "mimetype": "text/x-python",
   "name": "python",
   "nbconvert_exporter": "python",
   "pygments_lexer": "ipython3",
   "version": "3.6.5"
  }
 },
 "nbformat": 4,
 "nbformat_minor": 2
}
